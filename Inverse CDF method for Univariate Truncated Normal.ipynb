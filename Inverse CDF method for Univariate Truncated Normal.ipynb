{
 "cells": [
  {
   "cell_type": "markdown",
   "id": "ed756cec",
   "metadata": {},
   "source": [
    "# <font color = 'blue'>Sampling from Truncated Normal Distribution </font>"
   ]
  },
  {
   "cell_type": "markdown",
   "id": "41fd2a3e",
   "metadata": {},
   "source": [
    "### Suppose you wish to sample from  $$X \\sim N(\\mu ,\\sigma )I(a < X < b)$$\n",
    ", i.e. a normal random variable with mean $\\mu$ and variance $\\sigma^2$, but truncated to interval $(a,b)$. Let $\\phi$ be the standard normal CDF.\n",
    "\n"
   ]
  },
  {
   "cell_type": "markdown",
   "id": "615ceec3",
   "metadata": {},
   "source": [
    "###  1. Calculate endpoits (quantile)\n",
    "\\[\\begin{gathered}\n",
    "  \\mathop p\\nolimits_a  = \\Phi \\left( {\\frac{{a - \\mu }}{\\sigma }} \\right) \\hfill \\\\\n",
    "  \\mathop p\\nolimits_b  = \\Phi \\left( {\\frac{{b - \\mu }}{\\sigma }} \\right) \\hfill \\\\ \n",
    "\\end{gathered} \\]"
   ]
  },
  {
   "cell_type": "markdown",
   "id": "71afbb29",
   "metadata": {},
   "source": [
    "### 2. Sample \n",
    "\n",
    "\\[U \\sim Unif(\\mathop p\\nolimits_a ,\\mathop p\\nolimits_b )\\] "
   ]
  },
  {
   "cell_type": "markdown",
   "id": "d89ef2e0",
   "metadata": {},
   "source": [
    "### 3. Set \n",
    "\n",
    "\\[X = \\sigma\\;{\\Phi ^{ - 1}}\\left( U \\right) + \\mu \\]"
   ]
  },
  {
   "cell_type": "code",
   "execution_count": 4,
   "id": "c1a7a0a2",
   "metadata": {},
   "outputs": [],
   "source": [
    "# install.packages('truncnorm')\n",
    "library(truncnorm)"
   ]
  },
  {
   "cell_type": "code",
   "execution_count": 2,
   "id": "42a65d93",
   "metadata": {},
   "outputs": [],
   "source": [
    "vec <- seq(0, 6, by = 0.01)\n",
    "mu = 5\n",
    "sigma = 3\n",
    "test=dtruncnorm(vec,a=1,b=6,mean=mu,sd=sigma)\n"
   ]
  },
  {
   "cell_type": "code",
   "execution_count": 3,
   "id": "ccaf9880",
   "metadata": {},
   "outputs": [
    {
     "data": {
      "image/png": "[encoded data removed]",
      "text/plain": [
       "Plot with title \"Histogram of XX\""
      ]
     },
     "metadata": {
      "image/png": {
       "height": 420,
       "width": 420
      }
     },
     "output_type": "display_data"
    }
   ],
   "source": [
    "## Generating Random draw\n",
    "pa = pnorm((1-5)/3)\n",
    "pb = pnorm((6-5)/3)\n",
    "uu = runif(length(vec),min = pa,max = pb)\n",
    "XX= 3*qnorm(uu,) + 5\n",
    "hist(XX,freq = FALSE,breaks = 20,col='yellow1')\n",
    "lines(y=test,type = 'l',x=vec,col='deeppink',lwd=2)\n",
    "legend('topleft',legend = c('True distribution','simulated distribution'),col=c('deeppink','yellow1'),lwd=c(2,2))"
   ]
  }
 ],
 "metadata": {
  "kernelspec": {
   "display_name": "R",
   "language": "R",
   "name": "ir"
  },
  "language_info": {
   "codemirror_mode": "r",
   "file_extension": ".r",
   "mimetype": "text/x-r-source",
   "name": "R",
   "pygments_lexer": "r",
   "version": "4.0.3"
  },
  "latex_envs": {
   "LaTeX_envs_menu_present": true,
   "autoclose": false,
   "autocomplete": true,
   "bibliofile": "biblio.bib",
   "cite_by": "key",
   "current_citInitial": 1,
   "eqLabelWithNumbers": true,
   "eqNumInitial": 1,
   "hotkeys": {
    "equation": "Ctrl-E",
    "itemize": "Ctrl-I"
   },
   "labels_anchors": true,
   "latex_user_defs": false,
   "report_style_numbering": false,
   "user_envs_cfg": true
  },
  "toc": {
   "base_numbering": 1,
   "nav_menu": {},
   "number_sections": false,
   "sideBar": true,
   "skip_h1_title": false,
   "title_cell": "Table of Contents",
   "title_sidebar": "Contents",
   "toc_cell": false,
   "toc_position": {
    "height": "calc(100% - 180px)",
    "left": "10px",
    "top": "150px",
    "width": "301.2px"
   },
   "toc_section_display": true,
   "toc_window_display": false
  },
  "varInspector": {
   "cols": {
    "lenName": 16,
    "lenType": 16,
    "lenVar": 40
   },
   "kernels_config": {
    "python": {
     "delete_cmd_postfix": "",
     "delete_cmd_prefix": "del ",
     "library": "var_list.py",
     "varRefreshCmd": "print(var_dic_list())"
    },
    "r": {
     "delete_cmd_postfix": ") ",
     "delete_cmd_prefix": "rm(",
     "library": "var_list.r",
     "varRefreshCmd": "cat(var_dic_list()) "
    }
   },
   "types_to_exclude": [
    "module",
    "function",
    "builtin_function_or_method",
    "instance",
    "_Feature"
   ],
   "window_display": false
  }
 },
 "nbformat": 4,
 "nbformat_minor": 5
}
